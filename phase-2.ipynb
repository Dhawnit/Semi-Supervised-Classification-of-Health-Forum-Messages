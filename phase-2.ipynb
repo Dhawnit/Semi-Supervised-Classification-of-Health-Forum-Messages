{
 "cells": [
  {
   "cell_type": "code",
   "execution_count": 88,
   "metadata": {
    "collapsed": true
   },
   "outputs": [],
   "source": [
    "import pandas as pd \n",
    "import numpy as np \n",
    "from sklearn.feature_extraction.text import CountVectorizer\n",
    "from sklearn.feature_extraction.text import TfidfTransformer\n",
    "from sklearn.naive_bayes import MultinomialNB\n",
    "from sklearn.pipeline import Pipeline\n",
    "from sklearn.linear_model import SGDClassifier\n",
    "import re\n",
    "from collections import defaultdict\n",
    "import os"
   ]
  },
  {
   "cell_type": "code",
   "execution_count": 48,
   "metadata": {},
   "outputs": [],
   "source": [
    "stopwords=defaultdict(int)\n",
    "with open('StopWords.txt','r') as f:\n",
    "    for line in f:\n",
    "        line= line.strip()\n",
    "        stopwords[line]=1"
   ]
  },
  {
   "cell_type": "code",
   "execution_count": 55,
   "metadata": {
    "collapsed": true
   },
   "outputs": [],
   "source": [
    "df=pd.read_table('ICHI2016-TrainData.tsv')\n",
    "testdf = pd.read_table('new_ICHI2016-TestData_label.tsv')"
   ]
  },
  {
   "cell_type": "code",
   "execution_count": 56,
   "metadata": {},
   "outputs": [],
   "source": [
    "df['Question']=df['Title']+ ' ' + df['Question']"
   ]
  },
  {
   "cell_type": "code",
   "execution_count": 58,
   "metadata": {},
   "outputs": [],
   "source": [
    "df['Question']=df['Question'].apply(lambda x : x.lower())\n",
    "df['Question']=df['Question'].apply(lambda x : re.sub(r'https?://(.*?) ', '', x))\n",
    "df['Question']=df['Question'].apply(lambda x : re.sub('[^a-z]', ' ', x))\n",
    "df['Question']=df['Question'].apply(lambda x : re.sub(' +',' ', x))\n"
   ]
  },
  {
   "cell_type": "code",
   "execution_count": 59,
   "metadata": {
    "scrolled": true
   },
   "outputs": [],
   "source": [
    "df['Question']=df['Question'].apply(lambda key :' '.join([x for x in key.split() if stopwords[x]!=1]).strip() )\n"
   ]
  },
  {
   "cell_type": "code",
   "execution_count": 60,
   "metadata": {},
   "outputs": [
    {
     "data": {
      "text/html": [
       "<div>\n",
       "<style>\n",
       "    .dataframe thead tr:only-child th {\n",
       "        text-align: right;\n",
       "    }\n",
       "\n",
       "    .dataframe thead th {\n",
       "        text-align: left;\n",
       "    }\n",
       "\n",
       "    .dataframe tbody tr th {\n",
       "        vertical-align: top;\n",
       "    }\n",
       "</style>\n",
       "<table border=\"1\" class=\"dataframe\">\n",
       "  <thead>\n",
       "    <tr style=\"text-align: right;\">\n",
       "      <th></th>\n",
       "      <th>Category</th>\n",
       "      <th>Title</th>\n",
       "      <th>Question</th>\n",
       "    </tr>\n",
       "  </thead>\n",
       "  <tbody>\n",
       "    <tr>\n",
       "      <th>0</th>\n",
       "      <td>SOCL</td>\n",
       "      <td>lump on my wrist</td>\n",
       "      <td>lump wrist lump wrist thumb feels pinched nerv...</td>\n",
       "    </tr>\n",
       "    <tr>\n",
       "      <th>1</th>\n",
       "      <td>PREG</td>\n",
       "      <td>12 wks pg with twins and having odd (non-painf...</td>\n",
       "      <td>wks pg twins odd painful jabs abdomen pg twins...</td>\n",
       "    </tr>\n",
       "    <tr>\n",
       "      <th>2</th>\n",
       "      <td>GOAL</td>\n",
       "      <td>Severe pain in left eye</td>\n",
       "      <td>severe pain left eye real quick mri ct scan si...</td>\n",
       "    </tr>\n",
       "    <tr>\n",
       "      <th>3</th>\n",
       "      <td>SOCL</td>\n",
       "      <td>Man faces charges for reading wife's e-mail</td>\n",
       "      <td>man faces charges reading wife mail wife passw...</td>\n",
       "    </tr>\n",
       "    <tr>\n",
       "      <th>4</th>\n",
       "      <td>TRMT</td>\n",
       "      <td>What's Clear Jello</td>\n",
       "      <td>jello hey busy wait doctors office leave messa...</td>\n",
       "    </tr>\n",
       "  </tbody>\n",
       "</table>\n",
       "</div>"
      ],
      "text/plain": [
       "  Category                                              Title  \\\n",
       "0     SOCL                                   lump on my wrist   \n",
       "1     PREG  12 wks pg with twins and having odd (non-painf...   \n",
       "2     GOAL                            Severe pain in left eye   \n",
       "3     SOCL        Man faces charges for reading wife's e-mail   \n",
       "4     TRMT                                 What's Clear Jello   \n",
       "\n",
       "                                            Question  \n",
       "0  lump wrist lump wrist thumb feels pinched nerv...  \n",
       "1  wks pg twins odd painful jabs abdomen pg twins...  \n",
       "2  severe pain left eye real quick mri ct scan si...  \n",
       "3  man faces charges reading wife mail wife passw...  \n",
       "4  jello hey busy wait doctors office leave messa...  "
      ]
     },
     "execution_count": 60,
     "metadata": {},
     "output_type": "execute_result"
    }
   ],
   "source": [
    "df.head(5)"
   ]
  },
  {
   "cell_type": "code",
   "execution_count": 138,
   "metadata": {
    "collapsed": true
   },
   "outputs": [],
   "source": [
    "text_clf = Pipeline([('vect', CountVectorizer()), ('tfidf', TfidfTransformer()),('clf', MultinomialNB()), ])"
   ]
  },
  {
   "cell_type": "code",
   "execution_count": 139,
   "metadata": {
    "collapsed": true
   },
   "outputs": [],
   "source": [
    "text_clf = text_clf.fit(df['Question'], df['Category'])"
   ]
  },
  {
   "cell_type": "code",
   "execution_count": 140,
   "metadata": {
    "collapsed": true
   },
   "outputs": [],
   "source": [
    "predicted_NB = text_clf.predict(testdf['Question'])"
   ]
  },
  {
   "cell_type": "code",
   "execution_count": 141,
   "metadata": {
    "collapsed": true
   },
   "outputs": [],
   "source": [
    "Actual = testdf['Category']"
   ]
  },
  {
   "cell_type": "code",
   "execution_count": 142,
   "metadata": {},
   "outputs": [
    {
     "data": {
      "text/plain": [
       "0.64500000000000002"
      ]
     },
     "execution_count": 142,
     "metadata": {},
     "output_type": "execute_result"
    }
   ],
   "source": [
    "np.mean(predicted_NB == Actual)"
   ]
  },
  {
   "cell_type": "code",
   "execution_count": 143,
   "metadata": {
    "collapsed": true
   },
   "outputs": [],
   "source": [
    "text_clf_svm = Pipeline([('vect', CountVectorizer()), ('tfidf', TfidfTransformer()),('clf', SGDClassifier(loss='hinge',alpha=1e-3, n_iter=5,random_state=42)),])"
   ]
  },
  {
   "cell_type": "code",
   "execution_count": 144,
   "metadata": {},
   "outputs": [
    {
     "data": {
      "text/plain": [
       "Pipeline(steps=[('vect', CountVectorizer(analyzer=u'word', binary=False, decode_error=u'strict',\n",
       "        dtype=<type 'numpy.int64'>, encoding=u'utf-8', input=u'content',\n",
       "        lowercase=True, max_df=1.0, max_features=None, min_df=1,\n",
       "        ngram_range=(1, 1), preprocessor=None, stop_words=None,\n",
       "        st...     penalty='l2', power_t=0.5, random_state=42, shuffle=True, verbose=0,\n",
       "       warm_start=False))])"
      ]
     },
     "execution_count": 144,
     "metadata": {},
     "output_type": "execute_result"
    }
   ],
   "source": [
    "text_clf_svm.fit(df['Question'] ,df['Category'])"
   ]
  },
  {
   "cell_type": "code",
   "execution_count": 145,
   "metadata": {
    "collapsed": true
   },
   "outputs": [],
   "source": [
    "predicted_svm = text_clf_svm.predict(testdf['Question'])"
   ]
  },
  {
   "cell_type": "code",
   "execution_count": 146,
   "metadata": {},
   "outputs": [
    {
     "data": {
      "text/plain": [
       "0.64200000000000002"
      ]
     },
     "execution_count": 146,
     "metadata": {},
     "output_type": "execute_result"
    }
   ],
   "source": [
    "np.mean(predicted_svm == testdf['Category'])"
   ]
  },
  {
   "cell_type": "markdown",
   "metadata": {
    "collapsed": true
   },
   "source": [
    "### Semi Supervised Dataset"
   ]
  },
  {
   "cell_type": "code",
   "execution_count": 92,
   "metadata": {
    "scrolled": true
   },
   "outputs": [],
   "source": [
    "Title = []\n",
    "Question = []\n",
    "for fil in os.listdir('contains_all/'):\n",
    "    fil = 'contains_all/'+ fil\n",
    "    with open(fil) as f:\n",
    "        for line in f:\n",
    "            line=line.split('<<->>')\n",
    "            Title.append(line[0])\n",
    "            Question.append(line[1])\n"
   ]
  },
  {
   "cell_type": "code",
   "execution_count": 123,
   "metadata": {},
   "outputs": [],
   "source": [
    "sdf= pd.DataFrame()"
   ]
  },
  {
   "cell_type": "code",
   "execution_count": 124,
   "metadata": {
    "collapsed": true
   },
   "outputs": [],
   "source": [
    "sdf['Title']=Title\n",
    "sdf['Question']=Question"
   ]
  },
  {
   "cell_type": "code",
   "execution_count": 125,
   "metadata": {
    "collapsed": true
   },
   "outputs": [],
   "source": [
    "sdf['Question']=sdf['Title']+ ' ' + sdf['Question']\n",
    "sdf['Question']=sdf['Question'].apply(lambda x : x.lower())\n",
    "sdf['Question']=sdf['Question'].apply(lambda x : re.sub(r'https?://(.*?) ', '', x))\n",
    "sdf['Question']=sdf['Question'].apply(lambda x : re.sub('[^a-z]', ' ', x))\n",
    "sdf['Question']=sdf['Question'].apply(lambda x : re.sub(' +',' ', x))"
   ]
  },
  {
   "cell_type": "code",
   "execution_count": 126,
   "metadata": {
    "collapsed": true
   },
   "outputs": [],
   "source": [
    "sdf['Question']=sdf['Question'].apply(lambda key :' '.join([x for x in key.split() if stopwords[x]!=1]).strip() )"
   ]
  },
  {
   "cell_type": "code",
   "execution_count": 130,
   "metadata": {},
   "outputs": [],
   "source": [
    "predicted = text_clf.predict(sdf['Question'])"
   ]
  },
  {
   "cell_type": "code",
   "execution_count": 131,
   "metadata": {
    "collapsed": true
   },
   "outputs": [],
   "source": [
    "sdf['Category']=predicted"
   ]
  },
  {
   "cell_type": "code",
   "execution_count": 133,
   "metadata": {},
   "outputs": [
    {
     "data": {
      "text/html": [
       "<div>\n",
       "<style>\n",
       "    .dataframe thead tr:only-child th {\n",
       "        text-align: right;\n",
       "    }\n",
       "\n",
       "    .dataframe thead th {\n",
       "        text-align: left;\n",
       "    }\n",
       "\n",
       "    .dataframe tbody tr th {\n",
       "        vertical-align: top;\n",
       "    }\n",
       "</style>\n",
       "<table border=\"1\" class=\"dataframe\">\n",
       "  <thead>\n",
       "    <tr style=\"text-align: right;\">\n",
       "      <th></th>\n",
       "      <th>Title</th>\n",
       "      <th>Question</th>\n",
       "      <th>Category</th>\n",
       "    </tr>\n",
       "  </thead>\n",
       "  <tbody>\n",
       "    <tr>\n",
       "      <th>0</th>\n",
       "      <td>What should i do?</td>\n",
       "      <td>mom stroke worse diabetes type renal failure s...</td>\n",
       "      <td>FAML</td>\n",
       "    </tr>\n",
       "    <tr>\n",
       "      <th>1</th>\n",
       "      <td>Angina?</td>\n",
       "      <td>angina male pounds monday arm pains burning se...</td>\n",
       "      <td>DISE</td>\n",
       "    </tr>\n",
       "    <tr>\n",
       "      <th>2</th>\n",
       "      <td>sudden lightning shock feeling through left chest</td>\n",
       "      <td>sudden lightning shock feeling left chest walk...</td>\n",
       "      <td>DISE</td>\n",
       "    </tr>\n",
       "    <tr>\n",
       "      <th>3</th>\n",
       "      <td>Scared and Worried</td>\n",
       "      <td>scared worried scared worried point enjoy life...</td>\n",
       "      <td>DISE</td>\n",
       "    </tr>\n",
       "    <tr>\n",
       "      <th>4</th>\n",
       "      <td>Chest pain or Nuerophy side effects</td>\n",
       "      <td>chest pain nuerophy effects diagnosed years au...</td>\n",
       "      <td>DISE</td>\n",
       "    </tr>\n",
       "  </tbody>\n",
       "</table>\n",
       "</div>"
      ],
      "text/plain": [
       "                                               Title  \\\n",
       "0                                  What should i do?   \n",
       "1                                            Angina?   \n",
       "2  sudden lightning shock feeling through left chest   \n",
       "3                                 Scared and Worried   \n",
       "4                Chest pain or Nuerophy side effects   \n",
       "\n",
       "                                            Question Category  \n",
       "0  mom stroke worse diabetes type renal failure s...     FAML  \n",
       "1  angina male pounds monday arm pains burning se...     DISE  \n",
       "2  sudden lightning shock feeling left chest walk...     DISE  \n",
       "3  scared worried scared worried point enjoy life...     DISE  \n",
       "4  chest pain nuerophy effects diagnosed years au...     DISE  "
      ]
     },
     "execution_count": 133,
     "metadata": {},
     "output_type": "execute_result"
    }
   ],
   "source": [
    "sdf.head()"
   ]
  },
  {
   "cell_type": "code",
   "execution_count": 134,
   "metadata": {
    "collapsed": true
   },
   "outputs": [],
   "source": [
    "frames = [sdf,df]\n",
    "result = pd.concat(frames)"
   ]
  },
  {
   "cell_type": "code",
   "execution_count": 135,
   "metadata": {
    "collapsed": true
   },
   "outputs": [],
   "source": [
    "text_clf = Pipeline([('vect', CountVectorizer()), ('tfidf', TfidfTransformer()),('clf', MultinomialNB()), ])\n",
    "text_clf = text_clf.fit(result['Question'], result['Category'])"
   ]
  },
  {
   "cell_type": "markdown",
   "metadata": {},
   "source": [
    "### Accuracy with semi-supervised dataset"
   ]
  },
  {
   "cell_type": "code",
   "execution_count": 136,
   "metadata": {},
   "outputs": [
    {
     "data": {
      "text/plain": [
       "0.40133333333333332"
      ]
     },
     "execution_count": 136,
     "metadata": {},
     "output_type": "execute_result"
    }
   ],
   "source": [
    "predicted = text_clf.predict(testdf['Question'])\n",
    "Actual = testdf['Category']\n",
    "np.mean(predicted == Actual)"
   ]
  },
  {
   "cell_type": "markdown",
   "metadata": {},
   "source": [
    "### Ensemble of NB, SVM and CNN"
   ]
  },
  {
   "cell_type": "code",
   "execution_count": 159,
   "metadata": {},
   "outputs": [],
   "source": [
    "predicted_CNN=[]\n",
    "with open('output.txt') as f:\n",
    "        st = f.read()\n",
    "        st = st.lstrip('[')\n",
    "        st = st.rstrip(']')\n",
    "        st=st.split(',')\n",
    "        for x in st:\n",
    "            x=x.strip()\n",
    "            x=x.lstrip('\\'')\n",
    "            x=x.rstrip('\\'')\n",
    "            predicted_CNN.append(x)"
   ]
  },
  {
   "cell_type": "code",
   "execution_count": 169,
   "metadata": {},
   "outputs": [],
   "source": [
    "Ensemble_predict = []\n",
    "\n",
    "for i in range(3000):\n",
    "    dicti={}\n",
    "    try :\n",
    "        dicti[predicted_CNN[i]] +=1\n",
    "    except:\n",
    "        dicti[predicted_CNN[i]]=1\n",
    "    try :\n",
    "        dicti[predicted_NB[i]] +=1\n",
    "    except:\n",
    "        dicti[predicted_NB[i]]=1\n",
    "    try :\n",
    "        dicti[predicted_svm[i]] +=1\n",
    "    except:\n",
    "        dicti[predicted_svm[i]]=1\n",
    "    ma = 0\n",
    "    for key,value in dicti.items():\n",
    "        if value > ma:\n",
    "            ma= value\n",
    "            index = key\n",
    "    if ma == 1:\n",
    "        Ensemble_predict.append(predicted_NB[i])\n",
    "    else :\n",
    "        Ensemble_predict.append(index)\n",
    "    "
   ]
  },
  {
   "cell_type": "code",
   "execution_count": 171,
   "metadata": {
    "collapsed": true
   },
   "outputs": [],
   "source": [
    "Actual = testdf['Category']"
   ]
  },
  {
   "cell_type": "code",
   "execution_count": 172,
   "metadata": {},
   "outputs": [
    {
     "data": {
      "text/plain": [
       "0.66000000000000003"
      ]
     },
     "execution_count": 172,
     "metadata": {},
     "output_type": "execute_result"
    }
   ],
   "source": [
    "np.mean(Ensemble_predict == Actual)"
   ]
  },
  {
   "cell_type": "code",
   "execution_count": null,
   "metadata": {
    "collapsed": true
   },
   "outputs": [],
   "source": []
  }
 ],
 "metadata": {
  "kernelspec": {
   "display_name": "Python 2",
   "language": "python",
   "name": "python2"
  },
  "language_info": {
   "codemirror_mode": {
    "name": "ipython",
    "version": 2
   },
   "file_extension": ".py",
   "mimetype": "text/x-python",
   "name": "python",
   "nbconvert_exporter": "python",
   "pygments_lexer": "ipython2",
   "version": "2.7.13"
  }
 },
 "nbformat": 4,
 "nbformat_minor": 2
}
